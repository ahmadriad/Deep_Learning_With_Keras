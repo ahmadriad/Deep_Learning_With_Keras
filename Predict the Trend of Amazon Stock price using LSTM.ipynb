{
 "cells": [
  {
   "cell_type": "code",
   "execution_count": 1,
   "id": "574129e9",
   "metadata": {},
   "outputs": [],
   "source": [
    "import pandas as pd\n",
    "import numpy as np\n",
    "from keras.models import Sequential\n",
    "from sklearn.preprocessing import MinMaxScaler\n",
    "from keras.layers import Dense, activation, LSTM\n",
    "import matplotlib.pyplot as plt"
   ]
  },
  {
   "cell_type": "code",
   "execution_count": 2,
   "id": "d0c99d26",
   "metadata": {},
   "outputs": [
    {
     "data": {
      "text/html": [
       "<div>\n",
       "<style scoped>\n",
       "    .dataframe tbody tr th:only-of-type {\n",
       "        vertical-align: middle;\n",
       "    }\n",
       "\n",
       "    .dataframe tbody tr th {\n",
       "        vertical-align: top;\n",
       "    }\n",
       "\n",
       "    .dataframe thead th {\n",
       "        text-align: right;\n",
       "    }\n",
       "</style>\n",
       "<table border=\"1\" class=\"dataframe\">\n",
       "  <thead>\n",
       "    <tr style=\"text-align: right;\">\n",
       "      <th></th>\n",
       "      <th>Date</th>\n",
       "      <th>Open</th>\n",
       "      <th>High</th>\n",
       "      <th>Low</th>\n",
       "      <th>Close</th>\n",
       "      <th>Adj Close</th>\n",
       "      <th>Volume</th>\n",
       "    </tr>\n",
       "  </thead>\n",
       "  <tbody>\n",
       "    <tr>\n",
       "      <th>0</th>\n",
       "      <td>2014-01-02</td>\n",
       "      <td>398.799988</td>\n",
       "      <td>399.359985</td>\n",
       "      <td>394.019989</td>\n",
       "      <td>397.970001</td>\n",
       "      <td>397.970001</td>\n",
       "      <td>2137800</td>\n",
       "    </tr>\n",
       "    <tr>\n",
       "      <th>1</th>\n",
       "      <td>2014-01-03</td>\n",
       "      <td>398.290009</td>\n",
       "      <td>402.709991</td>\n",
       "      <td>396.220001</td>\n",
       "      <td>396.440002</td>\n",
       "      <td>396.440002</td>\n",
       "      <td>2210200</td>\n",
       "    </tr>\n",
       "    <tr>\n",
       "      <th>2</th>\n",
       "      <td>2014-01-06</td>\n",
       "      <td>395.850006</td>\n",
       "      <td>397.000000</td>\n",
       "      <td>388.420013</td>\n",
       "      <td>393.630005</td>\n",
       "      <td>393.630005</td>\n",
       "      <td>3170600</td>\n",
       "    </tr>\n",
       "    <tr>\n",
       "      <th>3</th>\n",
       "      <td>2014-01-07</td>\n",
       "      <td>395.040009</td>\n",
       "      <td>398.470001</td>\n",
       "      <td>394.290009</td>\n",
       "      <td>398.029999</td>\n",
       "      <td>398.029999</td>\n",
       "      <td>1916000</td>\n",
       "    </tr>\n",
       "    <tr>\n",
       "      <th>4</th>\n",
       "      <td>2014-01-08</td>\n",
       "      <td>398.470001</td>\n",
       "      <td>403.000000</td>\n",
       "      <td>396.040009</td>\n",
       "      <td>401.920013</td>\n",
       "      <td>401.920013</td>\n",
       "      <td>2316500</td>\n",
       "    </tr>\n",
       "  </tbody>\n",
       "</table>\n",
       "</div>"
      ],
      "text/plain": [
       "         Date        Open        High         Low       Close   Adj Close  \\\n",
       "0  2014-01-02  398.799988  399.359985  394.019989  397.970001  397.970001   \n",
       "1  2014-01-03  398.290009  402.709991  396.220001  396.440002  396.440002   \n",
       "2  2014-01-06  395.850006  397.000000  388.420013  393.630005  393.630005   \n",
       "3  2014-01-07  395.040009  398.470001  394.290009  398.029999  398.029999   \n",
       "4  2014-01-08  398.470001  403.000000  396.040009  401.920013  401.920013   \n",
       "\n",
       "    Volume  \n",
       "0  2137800  \n",
       "1  2210200  \n",
       "2  3170600  \n",
       "3  1916000  \n",
       "4  2316500  "
      ]
     },
     "execution_count": 2,
     "metadata": {},
     "output_type": "execute_result"
    }
   ],
   "source": [
    "train_datasets = pd.read_csv(\"https://raw.githubusercontent.com/ahmadriad/The-Deep-Learning-with-Keras-Workshop/master/Chapter09/AMZN_train.csv\")\n",
    "train_datasets.head()"
   ]
  },
  {
   "cell_type": "code",
   "execution_count": 3,
   "id": "895f2093",
   "metadata": {},
   "outputs": [
    {
     "data": {
      "text/plain": [
       "(1258, 1)"
      ]
     },
     "execution_count": 3,
     "metadata": {},
     "output_type": "execute_result"
    }
   ],
   "source": [
    "training_data = train_datasets[['Open']].values\n",
    "\n",
    "training_data.shape"
   ]
  },
  {
   "cell_type": "code",
   "execution_count": 4,
   "id": "d077acdd",
   "metadata": {},
   "outputs": [
    {
     "data": {
      "text/plain": [
       "array([[0.06523313],\n",
       "       [0.06494233],\n",
       "       [0.06355099],\n",
       "       ...,\n",
       "       [0.66704299],\n",
       "       [0.67796271],\n",
       "       [0.69931748]])"
      ]
     },
     "execution_count": 4,
     "metadata": {},
     "output_type": "execute_result"
    }
   ],
   "source": [
    "sc = MinMaxScaler(feature_range=(0,1))\n",
    "training_data_scalled = sc.fit_transform(training_data)\n",
    "training_data_scalled"
   ]
  },
  {
   "cell_type": "code",
   "execution_count": 8,
   "id": "bc7100c7",
   "metadata": {},
   "outputs": [
    {
     "data": {
      "text/plain": [
       "(1198, 60, 1)"
      ]
     },
     "execution_count": 8,
     "metadata": {},
     "output_type": "execute_result"
    }
   ],
   "source": [
    "X_train=[]\n",
    "Y_train=[]\n",
    "for i in range(60,1258):\n",
    "    X_train.append(training_data_scalled[i-60:i,])\n",
    "    Y_train.append(training_data_scalled[i,0])\n",
    "    \n",
    "X_train=np.array(X_train)\n",
    "Y_train=np.array(Y_train)\n",
    "X_train.shape"
   ]
  },
  {
   "cell_type": "code",
   "execution_count": 10,
   "id": "697929af",
   "metadata": {},
   "outputs": [
    {
     "name": "stdout",
     "output_type": "stream",
     "text": [
      "(1198, 60, 1) (1198,)\n"
     ]
    }
   ],
   "source": [
    "print(X_train.shape,Y_train.shape)"
   ]
  },
  {
   "cell_type": "code",
   "execution_count": 11,
   "id": "a83e4d46",
   "metadata": {},
   "outputs": [],
   "source": [
    "seed=1\n",
    "np.random.seed(seed)"
   ]
  },
  {
   "cell_type": "code",
   "execution_count": 13,
   "id": "5a9eff62",
   "metadata": {},
   "outputs": [
    {
     "name": "stdout",
     "output_type": "stream",
     "text": [
      "Epoch 1/100\n",
      "40/40 [==============================] - 16s 141ms/step - loss: 0.0238\n",
      "Epoch 2/100\n",
      "40/40 [==============================] - 5s 135ms/step - loss: 0.0012\n",
      "Epoch 3/100\n",
      "40/40 [==============================] - 3s 86ms/step - loss: 0.0011\n",
      "Epoch 4/100\n",
      "40/40 [==============================] - 4s 97ms/step - loss: 0.0012\n",
      "Epoch 5/100\n",
      "40/40 [==============================] - 6s 140ms/step - loss: 0.0011\n",
      "Epoch 6/100\n",
      "40/40 [==============================] - 5s 120ms/step - loss: 0.0011\n",
      "Epoch 7/100\n",
      "40/40 [==============================] - 3s 79ms/step - loss: 9.4334e-04\n",
      "Epoch 8/100\n",
      "40/40 [==============================] - 5s 119ms/step - loss: 0.0012\n",
      "Epoch 9/100\n",
      "40/40 [==============================] - 5s 136ms/step - loss: 0.0010\n",
      "Epoch 10/100\n",
      "40/40 [==============================] - 3s 85ms/step - loss: 8.6403e-04\n",
      "Epoch 11/100\n",
      "40/40 [==============================] - 3s 81ms/step - loss: 8.0624e-04\n",
      "Epoch 12/100\n",
      "40/40 [==============================] - 6s 143ms/step - loss: 0.0011\n",
      "Epoch 13/100\n",
      "40/40 [==============================] - 5s 122ms/step - loss: 8.5523e-04\n",
      "Epoch 14/100\n",
      "40/40 [==============================] - 3s 82ms/step - loss: 0.0010\n",
      "Epoch 15/100\n",
      "40/40 [==============================] - 4s 105ms/step - loss: 9.5481e-04\n",
      "Epoch 16/100\n",
      "40/40 [==============================] - 6s 138ms/step - loss: 9.8577e-04\n",
      "Epoch 17/100\n",
      "40/40 [==============================] - 4s 106ms/step - loss: 8.0767e-04\n",
      "Epoch 18/100\n",
      "40/40 [==============================] - 4s 90ms/step - loss: 7.7422e-04\n",
      "Epoch 19/100\n",
      "40/40 [==============================] - 5s 125ms/step - loss: 7.6088e-04\n",
      "Epoch 20/100\n",
      "40/40 [==============================] - 5s 136ms/step - loss: 6.8245e-04\n",
      "Epoch 21/100\n",
      "40/40 [==============================] - 3s 83ms/step - loss: 7.2141e-04\n",
      "Epoch 22/100\n",
      "40/40 [==============================] - 4s 92ms/step - loss: 6.7509e-04\n",
      "Epoch 23/100\n",
      "40/40 [==============================] - 6s 141ms/step - loss: 6.5834e-04\n",
      "Epoch 24/100\n",
      "40/40 [==============================] - 5s 116ms/step - loss: 7.7946e-04\n",
      "Epoch 25/100\n",
      "40/40 [==============================] - 3s 77ms/step - loss: 7.2815e-04\n",
      "Epoch 26/100\n",
      "40/40 [==============================] - 5s 118ms/step - loss: 6.6225e-04\n",
      "Epoch 27/100\n",
      "40/40 [==============================] - 6s 140ms/step - loss: 0.0011\n",
      "Epoch 28/100\n",
      "40/40 [==============================] - 4s 91ms/step - loss: 6.2902e-04\n",
      "Epoch 29/100\n",
      "40/40 [==============================] - 3s 82ms/step - loss: 6.4196e-04\n",
      "Epoch 30/100\n",
      "40/40 [==============================] - 5s 137ms/step - loss: 6.5566e-04\n",
      "Epoch 31/100\n",
      "40/40 [==============================] - 5s 129ms/step - loss: 6.5135e-04\n",
      "Epoch 32/100\n",
      "40/40 [==============================] - 3s 76ms/step - loss: 6.4663e-04\n",
      "Epoch 33/100\n",
      "40/40 [==============================] - 4s 95ms/step - loss: 5.9560e-04\n",
      "Epoch 34/100\n",
      "40/40 [==============================] - 6s 139ms/step - loss: 7.0300e-04\n",
      "Epoch 35/100\n",
      "40/40 [==============================] - 4s 110ms/step - loss: 5.5802e-04\n",
      "Epoch 36/100\n",
      "40/40 [==============================] - 3s 85ms/step - loss: 6.3959e-04\n",
      "Epoch 37/100\n",
      "40/40 [==============================] - 5s 117ms/step - loss: 5.4342e-04\n",
      "Epoch 38/100\n",
      "40/40 [==============================] - 6s 142ms/step - loss: 4.9747e-04\n",
      "Epoch 39/100\n",
      "40/40 [==============================] - 3s 86ms/step - loss: 6.1993e-04\n",
      "Epoch 40/100\n",
      "40/40 [==============================] - 3s 82ms/step - loss: 4.5278e-04\n",
      "Epoch 41/100\n",
      "40/40 [==============================] - 6s 140ms/step - loss: 4.6801e-04\n",
      "Epoch 42/100\n",
      "40/40 [==============================] - 5s 130ms/step - loss: 4.8486e-04\n",
      "Epoch 43/100\n",
      "40/40 [==============================] - 3s 76ms/step - loss: 6.1837e-04\n",
      "Epoch 44/100\n",
      "40/40 [==============================] - 4s 100ms/step - loss: 4.0093e-04\n",
      "Epoch 45/100\n",
      "40/40 [==============================] - 6s 141ms/step - loss: 4.1331e-04\n",
      "Epoch 46/100\n",
      "40/40 [==============================] - 4s 108ms/step - loss: 4.0197e-04\n",
      "Epoch 47/100\n",
      "40/40 [==============================] - 3s 74ms/step - loss: 3.0674e-04\n",
      "Epoch 48/100\n",
      "40/40 [==============================] - 5s 116ms/step - loss: 3.4870e-04\n",
      "Epoch 49/100\n",
      "40/40 [==============================] - 6s 139ms/step - loss: 3.2471e-04\n",
      "Epoch 50/100\n",
      "40/40 [==============================] - 4s 89ms/step - loss: 4.0246e-04\n",
      "Epoch 51/100\n",
      "40/40 [==============================] - 3s 80ms/step - loss: 4.6681e-04\n",
      "Epoch 52/100\n",
      "40/40 [==============================] - 5s 135ms/step - loss: 2.8966e-04\n",
      "Epoch 53/100\n",
      "40/40 [==============================] - 5s 134ms/step - loss: 2.7344e-04\n",
      "Epoch 54/100\n",
      "40/40 [==============================] - 3s 71ms/step - loss: 3.8734e-04\n",
      "Epoch 55/100\n",
      "40/40 [==============================] - 4s 101ms/step - loss: 4.7587e-04\n",
      "Epoch 56/100\n",
      "40/40 [==============================] - 6s 142ms/step - loss: 3.0688e-04\n",
      "Epoch 57/100\n",
      "40/40 [==============================] - 4s 110ms/step - loss: 2.8457e-04\n",
      "Epoch 58/100\n",
      "40/40 [==============================] - 3s 76ms/step - loss: 3.1594e-04\n",
      "Epoch 59/100\n",
      "40/40 [==============================] - 5s 119ms/step - loss: 2.6450e-04\n",
      "Epoch 60/100\n",
      "40/40 [==============================] - 6s 141ms/step - loss: 2.7045e-04\n",
      "Epoch 61/100\n",
      "40/40 [==============================] - 4s 98ms/step - loss: 3.2563e-04\n",
      "Epoch 62/100\n",
      "40/40 [==============================] - 3s 82ms/step - loss: 2.4689e-04\n",
      "Epoch 63/100\n",
      "40/40 [==============================] - 5s 136ms/step - loss: 2.3227e-04\n",
      "Epoch 64/100\n",
      "40/40 [==============================] - 5s 129ms/step - loss: 3.1694e-04\n",
      "Epoch 65/100\n",
      "40/40 [==============================] - 3s 86ms/step - loss: 2.4057e-04\n",
      "Epoch 66/100\n",
      "40/40 [==============================] - 4s 99ms/step - loss: 2.6711e-04\n",
      "Epoch 67/100\n",
      "40/40 [==============================] - 6s 141ms/step - loss: 2.2933e-04\n",
      "Epoch 68/100\n",
      "40/40 [==============================] - 4s 103ms/step - loss: 2.3864e-04\n",
      "Epoch 69/100\n",
      "40/40 [==============================] - 3s 75ms/step - loss: 3.3319e-04\n",
      "Epoch 70/100\n",
      "40/40 [==============================] - 5s 125ms/step - loss: 2.7337e-04\n",
      "Epoch 71/100\n",
      "40/40 [==============================] - 6s 141ms/step - loss: 3.0161e-04\n",
      "Epoch 72/100\n",
      "40/40 [==============================] - 3s 82ms/step - loss: 2.5342e-04\n",
      "Epoch 73/100\n",
      "40/40 [==============================] - 3s 80ms/step - loss: 2.3969e-04\n",
      "Epoch 74/100\n",
      "40/40 [==============================] - 6s 140ms/step - loss: 2.4795e-04\n",
      "Epoch 75/100\n",
      "40/40 [==============================] - 5s 126ms/step - loss: 2.4012e-04\n",
      "Epoch 76/100\n",
      "40/40 [==============================] - 3s 72ms/step - loss: 2.1329e-04\n",
      "Epoch 77/100\n",
      "40/40 [==============================] - 4s 96ms/step - loss: 2.2632e-04\n",
      "Epoch 78/100\n",
      "40/40 [==============================] - 5s 133ms/step - loss: 2.8510e-04\n",
      "Epoch 79/100\n",
      "40/40 [==============================] - 5s 113ms/step - loss: 4.3872e-04\n",
      "Epoch 80/100\n",
      "40/40 [==============================] - 3s 73ms/step - loss: 2.3492e-04\n",
      "Epoch 81/100\n",
      "40/40 [==============================] - 4s 111ms/step - loss: 2.0823e-04\n",
      "Epoch 82/100\n",
      "40/40 [==============================] - 6s 142ms/step - loss: 2.2568e-04\n",
      "Epoch 83/100\n",
      "40/40 [==============================] - 4s 88ms/step - loss: 2.0622e-04\n",
      "Epoch 84/100\n",
      "40/40 [==============================] - 3s 77ms/step - loss: 2.0074e-04\n",
      "Epoch 85/100\n",
      "40/40 [==============================] - 5s 122ms/step - loss: 2.1216e-04\n",
      "Epoch 86/100\n",
      "40/40 [==============================] - 6s 139ms/step - loss: 2.6486e-04\n",
      "Epoch 87/100\n",
      "40/40 [==============================] - 4s 90ms/step - loss: 2.6896e-04\n",
      "Epoch 88/100\n",
      "40/40 [==============================] - 3s 82ms/step - loss: 2.0517e-04\n",
      "Epoch 89/100\n",
      "40/40 [==============================] - 5s 137ms/step - loss: 1.9132e-04\n",
      "Epoch 90/100\n",
      "40/40 [==============================] - 5s 128ms/step - loss: 2.3262e-04\n",
      "Epoch 91/100\n",
      "40/40 [==============================] - 3s 82ms/step - loss: 2.1883e-04\n",
      "Epoch 92/100\n",
      "40/40 [==============================] - 4s 105ms/step - loss: 2.3936e-04\n",
      "Epoch 93/100\n",
      "40/40 [==============================] - 6s 141ms/step - loss: 1.9092e-04\n",
      "Epoch 94/100\n",
      "40/40 [==============================] - 4s 98ms/step - loss: 2.0482e-04\n",
      "Epoch 95/100\n",
      "40/40 [==============================] - 3s 80ms/step - loss: 2.8236e-04\n",
      "Epoch 96/100\n"
     ]
    },
    {
     "name": "stdout",
     "output_type": "stream",
     "text": [
      "40/40 [==============================] - 5s 114ms/step - loss: 2.0340e-04\n",
      "Epoch 97/100\n",
      "40/40 [==============================] - 5s 137ms/step - loss: 2.3919e-04\n",
      "Epoch 98/100\n",
      "40/40 [==============================] - 3s 82ms/step - loss: 2.0803e-04\n",
      "Epoch 99/100\n",
      "40/40 [==============================] - 3s 75ms/step - loss: 1.8253e-04\n",
      "Epoch 100/100\n",
      "40/40 [==============================] - 5s 137ms/step - loss: 2.0235e-04\n"
     ]
    },
    {
     "data": {
      "text/plain": [
       "<keras.callbacks.History at 0x17402ff5fa0>"
      ]
     },
     "execution_count": 13,
     "metadata": {},
     "output_type": "execute_result"
    }
   ],
   "source": [
    "model = Sequential()\n",
    "\n",
    "model.add(LSTM(50, input_shape=(X_train.shape[1], 1), return_sequences=True))\n",
    "model.add(LSTM(50,return_sequences=True))\n",
    "model.add(LSTM(50,return_sequences=True))\n",
    "model.add(LSTM(50))\n",
    "model.add(Dense(1))\n",
    "\n",
    "model.compile(loss=\"MSE\",optimizer=\"adam\")\n",
    "\n",
    "model.fit(X_train,Y_train,epochs=100,batch_size=30)"
   ]
  },
  {
   "cell_type": "code",
   "execution_count": 14,
   "id": "5159d138",
   "metadata": {},
   "outputs": [
    {
     "data": {
      "text/html": [
       "<div>\n",
       "<style scoped>\n",
       "    .dataframe tbody tr th:only-of-type {\n",
       "        vertical-align: middle;\n",
       "    }\n",
       "\n",
       "    .dataframe tbody tr th {\n",
       "        vertical-align: top;\n",
       "    }\n",
       "\n",
       "    .dataframe thead th {\n",
       "        text-align: right;\n",
       "    }\n",
       "</style>\n",
       "<table border=\"1\" class=\"dataframe\">\n",
       "  <thead>\n",
       "    <tr style=\"text-align: right;\">\n",
       "      <th></th>\n",
       "      <th>Date</th>\n",
       "      <th>Open</th>\n",
       "      <th>High</th>\n",
       "      <th>Low</th>\n",
       "      <th>Close</th>\n",
       "      <th>Adj Close</th>\n",
       "      <th>Volume</th>\n",
       "    </tr>\n",
       "  </thead>\n",
       "  <tbody>\n",
       "    <tr>\n",
       "      <th>0</th>\n",
       "      <td>1/2/19</td>\n",
       "      <td>1465.199951</td>\n",
       "      <td>1553.359985</td>\n",
       "      <td>1460.930054</td>\n",
       "      <td>1539.130005</td>\n",
       "      <td>1539.130005</td>\n",
       "      <td>7983100</td>\n",
       "    </tr>\n",
       "    <tr>\n",
       "      <th>1</th>\n",
       "      <td>1/3/19</td>\n",
       "      <td>1520.010010</td>\n",
       "      <td>1538.000000</td>\n",
       "      <td>1497.109985</td>\n",
       "      <td>1500.280029</td>\n",
       "      <td>1500.280029</td>\n",
       "      <td>6975600</td>\n",
       "    </tr>\n",
       "    <tr>\n",
       "      <th>2</th>\n",
       "      <td>1/4/19</td>\n",
       "      <td>1530.000000</td>\n",
       "      <td>1594.000000</td>\n",
       "      <td>1518.310059</td>\n",
       "      <td>1575.390015</td>\n",
       "      <td>1575.390015</td>\n",
       "      <td>9182600</td>\n",
       "    </tr>\n",
       "    <tr>\n",
       "      <th>3</th>\n",
       "      <td>1/7/19</td>\n",
       "      <td>1602.310059</td>\n",
       "      <td>1634.560059</td>\n",
       "      <td>1589.189941</td>\n",
       "      <td>1629.510010</td>\n",
       "      <td>1629.510010</td>\n",
       "      <td>7993200</td>\n",
       "    </tr>\n",
       "    <tr>\n",
       "      <th>4</th>\n",
       "      <td>1/8/19</td>\n",
       "      <td>1664.689941</td>\n",
       "      <td>1676.609985</td>\n",
       "      <td>1616.609985</td>\n",
       "      <td>1656.579956</td>\n",
       "      <td>1656.579956</td>\n",
       "      <td>8881400</td>\n",
       "    </tr>\n",
       "  </tbody>\n",
       "</table>\n",
       "</div>"
      ],
      "text/plain": [
       "     Date         Open         High          Low        Close    Adj Close  \\\n",
       "0  1/2/19  1465.199951  1553.359985  1460.930054  1539.130005  1539.130005   \n",
       "1  1/3/19  1520.010010  1538.000000  1497.109985  1500.280029  1500.280029   \n",
       "2  1/4/19  1530.000000  1594.000000  1518.310059  1575.390015  1575.390015   \n",
       "3  1/7/19  1602.310059  1634.560059  1589.189941  1629.510010  1629.510010   \n",
       "4  1/8/19  1664.689941  1676.609985  1616.609985  1656.579956  1656.579956   \n",
       "\n",
       "    Volume  \n",
       "0  7983100  \n",
       "1  6975600  \n",
       "2  9182600  \n",
       "3  7993200  \n",
       "4  8881400  "
      ]
     },
     "execution_count": 14,
     "metadata": {},
     "output_type": "execute_result"
    }
   ],
   "source": [
    "testing_datasets= pd.read_csv(\"https://raw.githubusercontent.com/ahmadriad/The-Deep-Learning-with-Keras-Workshop/master/Chapter09/AMZN_test.csv\")\n",
    "testing_datasets.head()"
   ]
  },
  {
   "cell_type": "code",
   "execution_count": 15,
   "id": "67e4b83a",
   "metadata": {},
   "outputs": [
    {
     "data": {
      "text/plain": [
       "(21, 1)"
      ]
     },
     "execution_count": 15,
     "metadata": {},
     "output_type": "execute_result"
    }
   ],
   "source": [
    "testing_data= testing_datasets[[\"Open\"]].values\n",
    "testing_data.shape"
   ]
  },
  {
   "cell_type": "code",
   "execution_count": 16,
   "id": "f1aff967",
   "metadata": {},
   "outputs": [
    {
     "name": "stdout",
     "output_type": "stream",
     "text": [
      "1/1 [==============================] - 3s 3s/step\n"
     ]
    }
   ],
   "source": [
    "total_data = pd.concat((train_datasets[\"Open\"],testing_datasets[\"Open\"]),axis=0)\n",
    "inputs = total_data[len(total_data) - len(testing_datasets['Open'])-60:].values\n",
    "inputs=inputs.reshape(-1,1)\n",
    "inputs=sc.fit_transform(inputs)\n",
    "\n",
    "X_test=[]\n",
    "\n",
    "for i in range(60,81):\n",
    "    X_test.append(inputs[i-60:i,0])\n",
    "    \n",
    "X_test = np.array(X_test)\n",
    "X_test = np.reshape(X_test, (X_test.shape[0], X_test.shape[1], 1))\n",
    "predicted_stock_price = model.predict(X_test)\n",
    "predicted_stock_price = sc.inverse_transform(predicted_stock_price)"
   ]
  },
  {
   "cell_type": "code",
   "execution_count": 17,
   "id": "5fe3644b",
   "metadata": {},
   "outputs": [
    {
     "data": {
      "text/plain": [
       "(21, 1)"
      ]
     },
     "execution_count": 17,
     "metadata": {},
     "output_type": "execute_result"
    }
   ],
   "source": [
    "predicted_stock_price.shape"
   ]
  },
  {
   "cell_type": "code",
   "execution_count": 18,
   "id": "d8022516",
   "metadata": {},
   "outputs": [
    {
     "data": {
      "text/plain": [
       "<matplotlib.legend.Legend at 0x1740d569d90>"
      ]
     },
     "execution_count": 18,
     "metadata": {},
     "output_type": "execute_result"
    },
    {
     "data": {
      "image/png": "[encoded data removed]",
      "text/plain": [
       "<Figure size 640x480 with 1 Axes>"
      ]
     },
     "metadata": {},
     "output_type": "display_data"
    }
   ],
   "source": [
    "plt.plot(testing_data,\"g--\", label = 'Real Amazon Stock Price')\n",
    "plt.plot(predicted_stock_price, color = 'red', label = 'Predicted Amazon Stock Price',ls='-')\n",
    "plt.title('Predicted Stock Price')\n",
    "plt.xlabel('Time in days')\n",
    "plt.ylabel('Real Stock Price')\n",
    "plt.legend()"
   ]
  },
  {
   "cell_type": "code",
   "execution_count": null,
   "id": "220d06f6",
   "metadata": {},
   "outputs": [],
   "source": []
  }
 ],
 "metadata": {
  "kernelspec": {
   "display_name": "Python 3 (ipykernel)",
   "language": "python",
   "name": "python3"
  },
  "language_info": {
   "codemirror_mode": {
    "name": "ipython",
    "version": 3
   },
   "file_extension": ".py",
   "mimetype": "text/x-python",
   "name": "python",
   "nbconvert_exporter": "python",
   "pygments_lexer": "ipython3",
   "version": "3.9.13"
  }
 },
 "nbformat": 4,
 "nbformat_minor": 5
}
