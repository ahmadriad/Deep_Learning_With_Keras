{
 "cells": [
  {
   "cell_type": "code",
   "execution_count": 133,
   "id": "4333e69c",
   "metadata": {},
   "outputs": [],
   "source": [
    "import pandas as pd\n",
    "import numpy as np\n",
    "from keras.models import Sequential\n",
    "from sklearn.preprocessing import MinMaxScaler\n",
    "from keras.layers import Dense, activation, LSTM\n",
    "import matplotlib.pyplot as plt"
   ]
  },
  {
   "cell_type": "code",
   "execution_count": 134,
   "id": "d82ad260",
   "metadata": {},
   "outputs": [
    {
     "data": {
      "text/html": [
       "<div>\n",
       "<style scoped>\n",
       "    .dataframe tbody tr th:only-of-type {\n",
       "        vertical-align: middle;\n",
       "    }\n",
       "\n",
       "    .dataframe tbody tr th {\n",
       "        vertical-align: top;\n",
       "    }\n",
       "\n",
       "    .dataframe thead th {\n",
       "        text-align: right;\n",
       "    }\n",
       "</style>\n",
       "<table border=\"1\" class=\"dataframe\">\n",
       "  <thead>\n",
       "    <tr style=\"text-align: right;\">\n",
       "      <th></th>\n",
       "      <th>Date</th>\n",
       "      <th>Open</th>\n",
       "      <th>High</th>\n",
       "      <th>Low</th>\n",
       "      <th>Close</th>\n",
       "      <th>Adj Close</th>\n",
       "      <th>Volume</th>\n",
       "    </tr>\n",
       "  </thead>\n",
       "  <tbody>\n",
       "    <tr>\n",
       "      <th>0</th>\n",
       "      <td>2014-01-02</td>\n",
       "      <td>398.799988</td>\n",
       "      <td>399.359985</td>\n",
       "      <td>394.019989</td>\n",
       "      <td>397.970001</td>\n",
       "      <td>397.970001</td>\n",
       "      <td>2137800</td>\n",
       "    </tr>\n",
       "    <tr>\n",
       "      <th>1</th>\n",
       "      <td>2014-01-03</td>\n",
       "      <td>398.290009</td>\n",
       "      <td>402.709991</td>\n",
       "      <td>396.220001</td>\n",
       "      <td>396.440002</td>\n",
       "      <td>396.440002</td>\n",
       "      <td>2210200</td>\n",
       "    </tr>\n",
       "    <tr>\n",
       "      <th>2</th>\n",
       "      <td>2014-01-06</td>\n",
       "      <td>395.850006</td>\n",
       "      <td>397.000000</td>\n",
       "      <td>388.420013</td>\n",
       "      <td>393.630005</td>\n",
       "      <td>393.630005</td>\n",
       "      <td>3170600</td>\n",
       "    </tr>\n",
       "    <tr>\n",
       "      <th>3</th>\n",
       "      <td>2014-01-07</td>\n",
       "      <td>395.040009</td>\n",
       "      <td>398.470001</td>\n",
       "      <td>394.290009</td>\n",
       "      <td>398.029999</td>\n",
       "      <td>398.029999</td>\n",
       "      <td>1916000</td>\n",
       "    </tr>\n",
       "    <tr>\n",
       "      <th>4</th>\n",
       "      <td>2014-01-08</td>\n",
       "      <td>398.470001</td>\n",
       "      <td>403.000000</td>\n",
       "      <td>396.040009</td>\n",
       "      <td>401.920013</td>\n",
       "      <td>401.920013</td>\n",
       "      <td>2316500</td>\n",
       "    </tr>\n",
       "  </tbody>\n",
       "</table>\n",
       "</div>"
      ],
      "text/plain": [
       "         Date        Open        High  ...       Close   Adj Close   Volume\n",
       "0  2014-01-02  398.799988  399.359985  ...  397.970001  397.970001  2137800\n",
       "1  2014-01-03  398.290009  402.709991  ...  396.440002  396.440002  2210200\n",
       "2  2014-01-06  395.850006  397.000000  ...  393.630005  393.630005  3170600\n",
       "3  2014-01-07  395.040009  398.470001  ...  398.029999  398.029999  1916000\n",
       "4  2014-01-08  398.470001  403.000000  ...  401.920013  401.920013  2316500\n",
       "\n",
       "[5 rows x 7 columns]"
      ]
     },
     "execution_count": 134,
     "metadata": {},
     "output_type": "execute_result"
    }
   ],
   "source": [
    "train_datasets = pd.read_csv(\"https://raw.githubusercontent.com/ahmadriad/The-Deep-Learning-with-Keras-Workshop/master/Chapter09/AMZN_train.csv\")\n",
    "train_datasets.head()"
   ]
  },
  {
   "cell_type": "code",
   "execution_count": 135,
   "id": "215b8d2f",
   "metadata": {},
   "outputs": [
    {
     "data": {
      "text/plain": [
       "(1258, 1)"
      ]
     },
     "execution_count": 135,
     "metadata": {},
     "output_type": "execute_result"
    }
   ],
   "source": [
    "training_data = train_datasets[['Open']].values\n",
    "\n",
    "training_data.shape"
   ]
  },
  {
   "cell_type": "code",
   "execution_count": 143,
   "id": "154f9527",
   "metadata": {},
   "outputs": [
    {
     "data": {
      "text/plain": [
       "array([[0.06523313],\n",
       "       [0.06494233],\n",
       "       [0.06355099],\n",
       "       ...,\n",
       "       [0.66704299],\n",
       "       [0.67796271],\n",
       "       [0.69931748]])"
      ]
     },
     "execution_count": 143,
     "metadata": {},
     "output_type": "execute_result"
    }
   ],
   "source": [
    "sc = MinMaxScaler(feature_range=(0,1))\n",
    "training_data_scalled = sc.fit_transform(training_data)\n",
    "training_data_scalled"
   ]
  },
  {
   "cell_type": "code",
   "execution_count": 145,
   "id": "e6470932",
   "metadata": {},
   "outputs": [
    {
     "data": {
      "text/plain": [
       "(1198, 60, 1)"
      ]
     },
     "execution_count": 145,
     "metadata": {},
     "output_type": "execute_result"
    }
   ],
   "source": [
    "X_train=[]\n",
    "Y_train=[]\n",
    "for i in range(60,1258):\n",
    "    X_train.append(training_data_scalled[i-60:i,])\n",
    "    Y_train.append(training_data_scalled[i,0])\n",
    "    \n",
    "X_train=np.array(x_train)\n",
    "Y_train=np.array(y_train)\n",
    "X_train.shape"
   ]
  },
  {
   "cell_type": "code",
   "execution_count": 138,
   "id": "1a3e0406",
   "metadata": {},
   "outputs": [],
   "source": [
    "seed=1\n",
    "np.random.seed(seed)"
   ]
  },
  {
   "cell_type": "code",
   "execution_count": 146,
   "id": "a962b335",
   "metadata": {},
   "outputs": [
    {
     "name": "stdout",
     "output_type": "stream",
     "text": [
      "Epoch 1/100\n",
      "40/40 [==============================] - 15s 133ms/step - loss: 0.0268\n",
      "Epoch 2/100\n",
      "40/40 [==============================] - 5s 115ms/step - loss: 0.0015\n",
      "Epoch 3/100\n",
      "40/40 [==============================] - 3s 82ms/step - loss: 0.0011\n",
      "Epoch 4/100\n",
      "40/40 [==============================] - 4s 113ms/step - loss: 0.0011\n",
      "Epoch 5/100\n",
      "40/40 [==============================] - 5s 137ms/step - loss: 0.0010\n",
      "Epoch 6/100\n",
      "40/40 [==============================] - 4s 93ms/step - loss: 0.0010\n",
      "Epoch 7/100\n",
      "40/40 [==============================] - 3s 82ms/step - loss: 0.0012\n",
      "Epoch 8/100\n",
      "40/40 [==============================] - 5s 125ms/step - loss: 9.8060e-04\n",
      "Epoch 9/100\n",
      "40/40 [==============================] - 6s 138ms/step - loss: 8.5938e-04\n",
      "Epoch 10/100\n",
      "40/40 [==============================] - 3s 79ms/step - loss: 9.1188e-04\n",
      "Epoch 11/100\n",
      "40/40 [==============================] - 4s 91ms/step - loss: 8.0435e-04\n",
      "Epoch 12/100\n",
      "40/40 [==============================] - 6s 139ms/step - loss: 8.6577e-04\n",
      "Epoch 13/100\n",
      "40/40 [==============================] - 5s 120ms/step - loss: 9.3805e-04\n",
      "Epoch 14/100\n",
      "40/40 [==============================] - 3s 84ms/step - loss: 0.0010\n",
      "Epoch 15/100\n",
      "40/40 [==============================] - 5s 118ms/step - loss: 8.8101e-04\n",
      "Epoch 16/100\n",
      "40/40 [==============================] - 5s 137ms/step - loss: 7.6693e-04\n",
      "Epoch 17/100\n",
      "40/40 [==============================] - 4s 105ms/step - loss: 7.5001e-04\n",
      "Epoch 18/100\n",
      "40/40 [==============================] - 4s 95ms/step - loss: 7.0701e-04\n",
      "Epoch 19/100\n",
      "40/40 [==============================] - 5s 133ms/step - loss: 7.1436e-04\n",
      "Epoch 20/100\n",
      "40/40 [==============================] - 5s 121ms/step - loss: 7.0630e-04\n",
      "Epoch 21/100\n",
      "40/40 [==============================] - 4s 96ms/step - loss: 8.4616e-04\n",
      "Epoch 22/100\n",
      "40/40 [==============================] - 4s 107ms/step - loss: 7.1954e-04\n",
      "Epoch 23/100\n",
      "40/40 [==============================] - 5s 137ms/step - loss: 8.2601e-04\n",
      "Epoch 24/100\n",
      "40/40 [==============================] - 4s 106ms/step - loss: 8.8398e-04\n",
      "Epoch 25/100\n",
      "40/40 [==============================] - 4s 97ms/step - loss: 7.3975e-04\n",
      "Epoch 26/100\n",
      "40/40 [==============================] - 5s 136ms/step - loss: 7.6107e-04\n",
      "Epoch 27/100\n",
      "40/40 [==============================] - 5s 121ms/step - loss: 7.2900e-04\n",
      "Epoch 28/100\n",
      "40/40 [==============================] - 3s 82ms/step - loss: 5.9930e-04\n",
      "Epoch 29/100\n",
      "40/40 [==============================] - 4s 105ms/step - loss: 5.9129e-04\n",
      "Epoch 30/100\n",
      "40/40 [==============================] - 5s 137ms/step - loss: 7.3587e-04\n",
      "Epoch 31/100\n",
      "40/40 [==============================] - 4s 108ms/step - loss: 5.7324e-04\n",
      "Epoch 32/100\n",
      "40/40 [==============================] - 4s 95ms/step - loss: 5.4118e-04\n",
      "Epoch 33/100\n",
      "40/40 [==============================] - 5s 124ms/step - loss: 5.2172e-04\n",
      "Epoch 34/100\n",
      "40/40 [==============================] - 5s 136ms/step - loss: 4.9680e-04\n",
      "Epoch 35/100\n",
      "40/40 [==============================] - 3s 83ms/step - loss: 5.2638e-04\n",
      "Epoch 36/100\n",
      "40/40 [==============================] - 4s 93ms/step - loss: 4.9618e-04\n",
      "Epoch 37/100\n",
      "40/40 [==============================] - 6s 138ms/step - loss: 4.3439e-04\n",
      "Epoch 38/100\n",
      "40/40 [==============================] - 4s 111ms/step - loss: 4.5983e-04\n",
      "Epoch 39/100\n",
      "40/40 [==============================] - 3s 81ms/step - loss: 5.1877e-04\n",
      "Epoch 40/100\n",
      "40/40 [==============================] - 5s 116ms/step - loss: 4.9522e-04\n",
      "Epoch 41/100\n",
      "40/40 [==============================] - 5s 137ms/step - loss: 4.7802e-04\n",
      "Epoch 42/100\n",
      "40/40 [==============================] - 4s 99ms/step - loss: 3.8212e-04\n",
      "Epoch 43/100\n",
      "40/40 [==============================] - 4s 92ms/step - loss: 3.1180e-04\n",
      "Epoch 44/100\n",
      "40/40 [==============================] - 5s 136ms/step - loss: 3.7808e-04\n",
      "Epoch 45/100\n",
      "40/40 [==============================] - 5s 129ms/step - loss: 4.4739e-04\n",
      "Epoch 46/100\n",
      "40/40 [==============================] - 3s 83ms/step - loss: 2.7305e-04\n",
      "Epoch 47/100\n",
      "40/40 [==============================] - 4s 100ms/step - loss: 3.3720e-04\n",
      "Epoch 48/100\n",
      "40/40 [==============================] - 5s 136ms/step - loss: 2.7490e-04\n",
      "Epoch 49/100\n",
      "40/40 [==============================] - 3s 77ms/step - loss: 2.4313e-04\n",
      "Epoch 50/100\n",
      "40/40 [==============================] - 2s 61ms/step - loss: 3.5332e-04\n",
      "Epoch 51/100\n",
      "40/40 [==============================] - 2s 62ms/step - loss: 4.3033e-04\n",
      "Epoch 52/100\n",
      "40/40 [==============================] - 3s 68ms/step - loss: 2.8387e-04\n",
      "Epoch 53/100\n",
      "40/40 [==============================] - 3s 66ms/step - loss: 3.0781e-04\n",
      "Epoch 54/100\n",
      "40/40 [==============================] - 3s 67ms/step - loss: 3.0765e-04\n",
      "Epoch 55/100\n",
      "40/40 [==============================] - 3s 65ms/step - loss: 2.5462e-04\n",
      "Epoch 56/100\n",
      "40/40 [==============================] - 2s 58ms/step - loss: 2.2500e-04\n",
      "Epoch 57/100\n",
      "40/40 [==============================] - 2s 60ms/step - loss: 2.2134e-04\n",
      "Epoch 58/100\n",
      "40/40 [==============================] - 3s 66ms/step - loss: 2.3299e-04\n",
      "Epoch 59/100\n",
      "40/40 [==============================] - 3s 66ms/step - loss: 2.7178e-04\n",
      "Epoch 60/100\n",
      "40/40 [==============================] - 3s 66ms/step - loss: 2.3646e-04\n",
      "Epoch 61/100\n",
      "40/40 [==============================] - 3s 66ms/step - loss: 2.5101e-04\n",
      "Epoch 62/100\n",
      "40/40 [==============================] - 2s 60ms/step - loss: 2.9683e-04\n",
      "Epoch 63/100\n",
      "40/40 [==============================] - 2s 59ms/step - loss: 2.4290e-04\n",
      "Epoch 64/100\n",
      "40/40 [==============================] - 3s 65ms/step - loss: 2.0539e-04\n",
      "Epoch 65/100\n",
      "40/40 [==============================] - 3s 66ms/step - loss: 2.7845e-04\n",
      "Epoch 66/100\n",
      "40/40 [==============================] - 3s 66ms/step - loss: 2.8746e-04\n",
      "Epoch 67/100\n",
      "40/40 [==============================] - 3s 66ms/step - loss: 2.5052e-04\n",
      "Epoch 68/100\n",
      "40/40 [==============================] - 2s 61ms/step - loss: 2.8642e-04\n",
      "Epoch 69/100\n",
      "40/40 [==============================] - 2s 58ms/step - loss: 2.3922e-04\n",
      "Epoch 70/100\n",
      "40/40 [==============================] - 3s 63ms/step - loss: 1.9918e-04\n",
      "Epoch 71/100\n",
      "40/40 [==============================] - 3s 70ms/step - loss: 2.1214e-04\n",
      "Epoch 72/100\n",
      "40/40 [==============================] - 3s 70ms/step - loss: 2.0201e-04\n",
      "Epoch 73/100\n",
      "40/40 [==============================] - 3s 68ms/step - loss: 2.0719e-04\n",
      "Epoch 74/100\n",
      "40/40 [==============================] - 2s 62ms/step - loss: 3.0403e-04\n",
      "Epoch 75/100\n",
      "40/40 [==============================] - 2s 59ms/step - loss: 3.0617e-04\n",
      "Epoch 76/100\n",
      "40/40 [==============================] - 3s 64ms/step - loss: 2.5204e-04\n",
      "Epoch 77/100\n",
      "40/40 [==============================] - 3s 66ms/step - loss: 2.5339e-04\n",
      "Epoch 78/100\n",
      "40/40 [==============================] - 3s 66ms/step - loss: 2.2564e-04\n",
      "Epoch 79/100\n",
      "40/40 [==============================] - 3s 66ms/step - loss: 1.9700e-04\n",
      "Epoch 80/100\n",
      "40/40 [==============================] - 3s 64ms/step - loss: 2.1464e-04\n",
      "Epoch 81/100\n",
      "40/40 [==============================] - 2s 60ms/step - loss: 2.0973e-04\n",
      "Epoch 82/100\n",
      "40/40 [==============================] - 2s 61ms/step - loss: 2.2680e-04\n",
      "Epoch 83/100\n",
      "40/40 [==============================] - 3s 71ms/step - loss: 2.8835e-04\n",
      "Epoch 84/100\n",
      "40/40 [==============================] - 3s 70ms/step - loss: 2.5433e-04\n",
      "Epoch 85/100\n",
      "40/40 [==============================] - 3s 67ms/step - loss: 1.8440e-04\n",
      "Epoch 86/100\n",
      "40/40 [==============================] - 3s 67ms/step - loss: 1.9741e-04\n",
      "Epoch 87/100\n",
      "40/40 [==============================] - 2s 59ms/step - loss: 2.5899e-04\n",
      "Epoch 88/100\n",
      "40/40 [==============================] - 2s 60ms/step - loss: 2.7993e-04\n",
      "Epoch 89/100\n",
      "40/40 [==============================] - 3s 70ms/step - loss: 1.9541e-04\n",
      "Epoch 90/100\n",
      "40/40 [==============================] - 3s 70ms/step - loss: 2.3617e-04\n",
      "Epoch 91/100\n",
      "40/40 [==============================] - 3s 70ms/step - loss: 1.9919e-04\n",
      "Epoch 92/100\n",
      "40/40 [==============================] - 3s 70ms/step - loss: 1.9241e-04\n",
      "Epoch 93/100\n",
      "40/40 [==============================] - 2s 59ms/step - loss: 1.8250e-04\n",
      "Epoch 94/100\n",
      "40/40 [==============================] - 2s 61ms/step - loss: 2.1467e-04\n",
      "Epoch 95/100\n",
      "40/40 [==============================] - 3s 70ms/step - loss: 2.9569e-04\n",
      "Epoch 96/100\n"
     ]
    },
    {
     "name": "stdout",
     "output_type": "stream",
     "text": [
      "40/40 [==============================] - 3s 70ms/step - loss: 2.7402e-04\n",
      "Epoch 97/100\n",
      "40/40 [==============================] - 3s 69ms/step - loss: 1.8315e-04\n",
      "Epoch 98/100\n",
      "40/40 [==============================] - 3s 65ms/step - loss: 2.1244e-04\n",
      "Epoch 99/100\n",
      "40/40 [==============================] - 2s 59ms/step - loss: 2.7668e-04\n",
      "Epoch 100/100\n",
      "40/40 [==============================] - 2s 61ms/step - loss: 1.9280e-04\n"
     ]
    },
    {
     "data": {
      "text/plain": [
       "<keras.callbacks.History at 0x19189180ee0>"
      ]
     },
     "execution_count": 146,
     "metadata": {},
     "output_type": "execute_result"
    }
   ],
   "source": [
    "model = Sequential()\n",
    "\n",
    "model.add(LSTM(50, input_shape=(X_train.shape[1], 1), return_sequences=True))\n",
    "model.add(LSTM(50,return_sequences=True))\n",
    "model.add(LSTM(50,return_sequences=True))\n",
    "model.add(LSTM(50))\n",
    "model.add(Dense(1))\n",
    "\n",
    "model.compile(loss=\"MSE\",optimizer=\"adam\")\n",
    "\n",
    "model.fit(X_train,y_train,epochs=100,batch_size=30)"
   ]
  },
  {
   "cell_type": "code",
   "execution_count": 147,
   "id": "19bad44f",
   "metadata": {},
   "outputs": [
    {
     "data": {
      "text/html": [
       "<div>\n",
       "<style scoped>\n",
       "    .dataframe tbody tr th:only-of-type {\n",
       "        vertical-align: middle;\n",
       "    }\n",
       "\n",
       "    .dataframe tbody tr th {\n",
       "        vertical-align: top;\n",
       "    }\n",
       "\n",
       "    .dataframe thead th {\n",
       "        text-align: right;\n",
       "    }\n",
       "</style>\n",
       "<table border=\"1\" class=\"dataframe\">\n",
       "  <thead>\n",
       "    <tr style=\"text-align: right;\">\n",
       "      <th></th>\n",
       "      <th>Date</th>\n",
       "      <th>Open</th>\n",
       "      <th>High</th>\n",
       "      <th>Low</th>\n",
       "      <th>Close</th>\n",
       "      <th>Adj Close</th>\n",
       "      <th>Volume</th>\n",
       "    </tr>\n",
       "  </thead>\n",
       "  <tbody>\n",
       "    <tr>\n",
       "      <th>0</th>\n",
       "      <td>1/2/19</td>\n",
       "      <td>1465.199951</td>\n",
       "      <td>1553.359985</td>\n",
       "      <td>1460.930054</td>\n",
       "      <td>1539.130005</td>\n",
       "      <td>1539.130005</td>\n",
       "      <td>7983100</td>\n",
       "    </tr>\n",
       "    <tr>\n",
       "      <th>1</th>\n",
       "      <td>1/3/19</td>\n",
       "      <td>1520.010010</td>\n",
       "      <td>1538.000000</td>\n",
       "      <td>1497.109985</td>\n",
       "      <td>1500.280029</td>\n",
       "      <td>1500.280029</td>\n",
       "      <td>6975600</td>\n",
       "    </tr>\n",
       "    <tr>\n",
       "      <th>2</th>\n",
       "      <td>1/4/19</td>\n",
       "      <td>1530.000000</td>\n",
       "      <td>1594.000000</td>\n",
       "      <td>1518.310059</td>\n",
       "      <td>1575.390015</td>\n",
       "      <td>1575.390015</td>\n",
       "      <td>9182600</td>\n",
       "    </tr>\n",
       "    <tr>\n",
       "      <th>3</th>\n",
       "      <td>1/7/19</td>\n",
       "      <td>1602.310059</td>\n",
       "      <td>1634.560059</td>\n",
       "      <td>1589.189941</td>\n",
       "      <td>1629.510010</td>\n",
       "      <td>1629.510010</td>\n",
       "      <td>7993200</td>\n",
       "    </tr>\n",
       "    <tr>\n",
       "      <th>4</th>\n",
       "      <td>1/8/19</td>\n",
       "      <td>1664.689941</td>\n",
       "      <td>1676.609985</td>\n",
       "      <td>1616.609985</td>\n",
       "      <td>1656.579956</td>\n",
       "      <td>1656.579956</td>\n",
       "      <td>8881400</td>\n",
       "    </tr>\n",
       "  </tbody>\n",
       "</table>\n",
       "</div>"
      ],
      "text/plain": [
       "     Date         Open         High  ...        Close    Adj Close   Volume\n",
       "0  1/2/19  1465.199951  1553.359985  ...  1539.130005  1539.130005  7983100\n",
       "1  1/3/19  1520.010010  1538.000000  ...  1500.280029  1500.280029  6975600\n",
       "2  1/4/19  1530.000000  1594.000000  ...  1575.390015  1575.390015  9182600\n",
       "3  1/7/19  1602.310059  1634.560059  ...  1629.510010  1629.510010  7993200\n",
       "4  1/8/19  1664.689941  1676.609985  ...  1656.579956  1656.579956  8881400\n",
       "\n",
       "[5 rows x 7 columns]"
      ]
     },
     "execution_count": 147,
     "metadata": {},
     "output_type": "execute_result"
    }
   ],
   "source": [
    "testing_datasets= pd.read_csv(\"https://raw.githubusercontent.com/ahmadriad/The-Deep-Learning-with-Keras-Workshop/master/Chapter09/AMZN_test.csv\")\n",
    "testing_datasets.head()"
   ]
  },
  {
   "cell_type": "code",
   "execution_count": 148,
   "id": "d7ee69c4",
   "metadata": {},
   "outputs": [
    {
     "data": {
      "text/plain": [
       "(21, 1)"
      ]
     },
     "execution_count": 148,
     "metadata": {},
     "output_type": "execute_result"
    }
   ],
   "source": [
    "testing_data= testing_datasets[[\"Open\"]].values\n",
    "testing_data.shape"
   ]
  },
  {
   "cell_type": "code",
   "execution_count": 149,
   "id": "755de4f2",
   "metadata": {},
   "outputs": [
    {
     "name": "stdout",
     "output_type": "stream",
     "text": [
      "1/1 [==============================] - 1s 1s/step\n"
     ]
    }
   ],
   "source": [
    "total_data = pd.concat((train_datasets[\"Open\"],testing_datasets[\"Open\"]),axis=0)\n",
    "inputs = total_data[len(total_data) - len(testing_datasets['Open'])-60:].values\n",
    "inputs=inputs.reshape(-1,1)\n",
    "inputs=sc.fit_transform(inputs)\n",
    "\n",
    "X_test=[]\n",
    "\n",
    "for i in range(60,81):\n",
    "    X_test.append(inputs[i-60:i,0])\n",
    "    \n",
    "X_test = np.array(X_test)\n",
    "X_test = np.reshape(X_test, (X_test.shape[0], X_test.shape[1], 1))\n",
    "predicted_stock_price = model.predict(X_test)\n",
    "predicted_stock_price = sc.inverse_transform(predicted_stock_price)"
   ]
  },
  {
   "cell_type": "code",
   "execution_count": 150,
   "id": "6b33fdc7",
   "metadata": {},
   "outputs": [
    {
     "data": {
      "text/plain": [
       "(21, 1)"
      ]
     },
     "execution_count": 150,
     "metadata": {},
     "output_type": "execute_result"
    }
   ],
   "source": [
    "predicted_stock_price.shape"
   ]
  },
  {
   "cell_type": "code",
   "execution_count": 154,
   "id": "f75b331f",
   "metadata": {},
   "outputs": [
    {
     "data": {
      "text/plain": [
       "<matplotlib.legend.Legend at 0x1919419fb20>"
      ]
     },
     "execution_count": 154,
     "metadata": {},
     "output_type": "execute_result"
    },
    {
     "data": {
      "image/png": "[encoded data removed]",
      "text/plain": [
       "<Figure size 640x480 with 1 Axes>"
      ]
     },
     "metadata": {},
     "output_type": "display_data"
    }
   ],
   "source": [
    "plt.plot(testing_data,\"g--\", label = 'Real Alphabet Stock Price')\n",
    "plt.plot(predicted_stock_price, color = 'red', label = 'Predicted Alphabet Stock Price',ls='-')\n",
    "plt.title('Predicted Stock Price')\n",
    "plt.xlabel('Time in days')\n",
    "plt.ylabel('Real Stock Price')\n",
    "plt.legend()"
   ]
  },
  {
   "cell_type": "code",
   "execution_count": null,
   "id": "5599824d",
   "metadata": {},
   "outputs": [],
   "source": []
  }
 ],
 "metadata": {
  "kernelspec": {
   "display_name": "Python 3 (ipykernel)",
   "language": "python",
   "name": "python3"
  },
  "language_info": {
   "codemirror_mode": {
    "name": "ipython",
    "version": 3
   },
   "file_extension": ".py",
   "mimetype": "text/x-python",
   "name": "python",
   "nbconvert_exporter": "python",
   "pygments_lexer": "ipython3",
   "version": "3.9.13"
  }
 },
 "nbformat": 4,
 "nbformat_minor": 5
}
